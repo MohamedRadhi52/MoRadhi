{
 "cells": [
  {
   "cell_type": "markdown",
   "id": "04f1dc4f-c7cc-4c9b-9826-45e52a5edd30",
   "metadata": {},
   "source": [
    "# House Prices: Advanced Regression Techniques\n"
   ]
  },
  {
   "cell_type": "raw",
   "id": "55c28899-91ba-4f4d-8413-f62955a03c8a",
   "metadata": {},
   "source": [
    "Ce projet vise à développer un modèle de machine learning capable de prédire les prix de vente des maisons en fonction d'un ensemble de caractéristiques fournies. Le jeu de données utilisé provient de la célèbre compétition Kaggle \"House Prices: Advanced Regression Techniques\".\n"
   ]
  },
  {
   "cell_type": "markdown",
   "id": "411e6077-169b-4395-bd3a-bf39439b3b8f",
   "metadata": {},
   "source": [
    "### Objectifs:"
   ]
  },
  {
   "cell_type": "raw",
   "id": "b82b016a-aebb-4614-a93c-eb7e95c294d8",
   "metadata": {},
   "source": [
    "1. Effectuer un prétraitement des données pour gérer les valeurs manquantes et les variables catégoriques.\n",
    "2. Explorer les relations entre les caractéristiques et les prix des maisons à l'aide de visualisations.\n",
    "3. Entraîner des modèles de machine learning (Random Forest et XGBoost) pour effectuer des prédictions précises.\n",
    "4. Évaluer les performances des modèles en utilisant la métrique RMSLE (Root Mean Squared Logarithmic Error)."
   ]
  },
  {
   "cell_type": "markdown",
   "id": "0de2ba9d-8f59-4203-881e-79488b90fae7",
   "metadata": {},
   "source": [
    "### Résultats attendus :"
   ]
  },
  {
   "cell_type": "raw",
   "id": "e138dcd3-0502-4164-bab8-9cbbedb8e8de",
   "metadata": {},
   "source": [
    "- Une meilleure compréhension des facteurs influençant les prix des maisons.\n",
    "- Un modèle prédictif performant basé sur les caractéristiques fournies."
   ]
  },
  {
   "cell_type": "markdown",
   "id": "a3232e9f-4c63-411e-a9f4-7c86a39536ff",
   "metadata": {},
   "source": [
    "### Importation les bibliothèques nécessaires"
   ]
  },
  {
   "cell_type": "code",
   "execution_count": 14,
   "id": "8aee3a07-4070-4992-9066-5b7981a56591",
   "metadata": {},
   "outputs": [],
   "source": [
    "import numpy as np\n",
    "import pandas as pd\n",
    "import matplotlib.pyplot as plt\n",
    "import seaborn as sns\n",
    "from sklearn.model_selection import train_test_split\n",
    "from sklearn.ensemble import RandomForestRegressor\n",
    "import xgboost as xgb"
   ]
  },
  {
   "cell_type": "code",
   "execution_count": 60,
   "id": "b23b072e-7c7c-4fb0-b101-45d2f8448ca4",
   "metadata": {},
   "outputs": [],
   "source": [
    "# Définition de la fonction pour évaluer les modèles\n",
    "def rmlse(y_pred, y_true):\n",
    "    return np.sqrt(np.mean((np.log1p(y_pred) - np.log1p(y_true))**2))\n"
   ]
  },
  {
   "cell_type": "markdown",
   "id": "4de8a660-3879-4544-a578-91bbbdf64c07",
   "metadata": {},
   "source": [
    "### Chargement des données:"
   ]
  },
  {
   "cell_type": "code",
   "execution_count": 107,
   "id": "7c82c2be-cbd5-414c-b1fa-2060f5f7bce3",
   "metadata": {},
   "outputs": [
    {
     "name": "stdout",
     "output_type": "stream",
     "text": [
      "Chargement des données...\n"
     ]
    }
   ],
   "source": [
    "print(\"Chargement des données...\")\n",
    "data = pd.read_csv(\"train.csv\")"
   ]
  },
  {
   "cell_type": "code",
   "execution_count": 109,
   "id": "79a98be1-0d7e-4551-ac1a-6b77ecd2900f",
   "metadata": {},
   "outputs": [
    {
     "name": "stdout",
     "output_type": "stream",
     "text": [
      "Données d'entraînement :\n",
      "   Id  MSSubClass MSZoning  LotFrontage  LotArea Street Alley LotShape  \\\n",
      "0   1          60       RL         65.0     8450   Pave   NaN      Reg   \n",
      "1   2          20       RL         80.0     9600   Pave   NaN      Reg   \n",
      "2   3          60       RL         68.0    11250   Pave   NaN      IR1   \n",
      "3   4          70       RL         60.0     9550   Pave   NaN      IR1   \n",
      "4   5          60       RL         84.0    14260   Pave   NaN      IR1   \n",
      "\n",
      "  LandContour Utilities  ... PoolArea PoolQC Fence MiscFeature MiscVal MoSold  \\\n",
      "0         Lvl    AllPub  ...        0    NaN   NaN         NaN       0      2   \n",
      "1         Lvl    AllPub  ...        0    NaN   NaN         NaN       0      5   \n",
      "2         Lvl    AllPub  ...        0    NaN   NaN         NaN       0      9   \n",
      "3         Lvl    AllPub  ...        0    NaN   NaN         NaN       0      2   \n",
      "4         Lvl    AllPub  ...        0    NaN   NaN         NaN       0     12   \n",
      "\n",
      "  YrSold  SaleType  SaleCondition  SalePrice  \n",
      "0   2008        WD         Normal     208500  \n",
      "1   2007        WD         Normal     181500  \n",
      "2   2008        WD         Normal     223500  \n",
      "3   2006        WD        Abnorml     140000  \n",
      "4   2008        WD         Normal     250000  \n",
      "\n",
      "[5 rows x 81 columns]\n"
     ]
    }
   ],
   "source": [
    "# Affichage des données pour vérification\n",
    "print(\"Données d'entraînement :\")\n",
    "print(data.head())\n"
   ]
  },
  {
   "cell_type": "markdown",
   "id": "4f05ac72-62d6-4967-bb62-14a7d0b39a94",
   "metadata": {},
   "source": [
    "### Nettoyage et Prétraitement des données\n"
   ]
  },
  {
   "cell_type": "code",
   "execution_count": 112,
   "id": "b71280ef-377c-49c5-927b-1989ec359d48",
   "metadata": {},
   "outputs": [
    {
     "name": "stdout",
     "output_type": "stream",
     "text": [
      "Colonnes avec des valeurs manquantes :\n",
      "PoolQC          1453\n",
      "MiscFeature     1406\n",
      "Alley           1369\n",
      "Fence           1179\n",
      "MasVnrType       872\n",
      "FireplaceQu      690\n",
      "LotFrontage      259\n",
      "GarageType        81\n",
      "GarageYrBlt       81\n",
      "GarageFinish      81\n",
      "GarageQual        81\n",
      "GarageCond        81\n",
      "BsmtFinType2      38\n",
      "BsmtExposure      38\n",
      "BsmtFinType1      37\n",
      "BsmtCond          37\n",
      "BsmtQual          37\n",
      "MasVnrArea         8\n",
      "Electrical         1\n",
      "dtype: int64\n"
     ]
    }
   ],
   "source": [
    "# Identifier les colonnes avec des valeurs manquantes\n",
    "colonnes_manquantes = data.isnull().sum()\n",
    "colonnes_manquantes = colonnes_manquantes[colonnes_manquantes > 0].sort_values(ascending=False)\n",
    "print(\"Colonnes avec des valeurs manquantes :\")\n",
    "print(colonnes_manquantes)"
   ]
  },
  {
   "cell_type": "code",
   "execution_count": 114,
   "id": "b898e1d3-9413-4a28-bc72-6b9c433a1207",
   "metadata": {},
   "outputs": [],
   "source": [
    "# Remplir les valeurs manquantes\n",
    "for colonne in colonnes_manquantes.index:\n",
    "    if data[colonne].dtype == \"object\":\n",
    "        data[colonne] = data[colonne].fillna(\"None\")\n",
    "    else:\n",
    "        data[colonne] = data[colonne].fillna(0)\n"
   ]
  },
  {
   "cell_type": "code",
   "execution_count": 116,
   "id": "b8960918-e6fd-4f6c-ba4e-0c071720b459",
   "metadata": {},
   "outputs": [],
   "source": [
    "# Encoder les variables catégoriques\n",
    "data = pd.get_dummies(data, drop_first=True)"
   ]
  },
  {
   "cell_type": "code",
   "execution_count": 118,
   "id": "dab72fa1-69f4-4edf-ae0d-0d57c1e28864",
   "metadata": {},
   "outputs": [],
   "source": [
    "# Transformation du variable cible\n",
    "data[\"SalePrice\"] = np.log1p(data[\"SalePrice\"])"
   ]
  },
  {
   "cell_type": "code",
   "execution_count": 120,
   "id": "49bb90ab-4456-43a2-84cc-812833bae413",
   "metadata": {},
   "outputs": [],
   "source": [
    "# Sélection des variables indépendantes (X) et de la variable cible (y)\n",
    "X = data.drop(\"SalePrice\", axis=1)\n",
    "y = data[\"SalePrice\"]\n"
   ]
  },
  {
   "cell_type": "code",
   "execution_count": 122,
   "id": "7205fbf7-b279-4ef8-a099-378146608a75",
   "metadata": {},
   "outputs": [],
   "source": [
    "# Division en jeu d'entraînement et de validation\n",
    "X_train, X_val, y_train, y_val = train_test_split(X, y, test_size=0.2, random_state=42)"
   ]
  },
  {
   "cell_type": "markdown",
   "id": "e098c13f-ab88-48c1-a1a5-4d6ac59d0317",
   "metadata": {},
   "source": [
    "### Analyse exploratoire et Visualisation"
   ]
  },
  {
   "cell_type": "code",
   "execution_count": 125,
   "id": "4738dad2-d379-413d-9c58-e37222394150",
   "metadata": {},
   "outputs": [
    {
     "name": "stdout",
     "output_type": "stream",
     "text": [
      "Analyse exploratoire...\n"
     ]
    },
    {
     "data": {
      "image/png": "[encoded data removed]",
      "text/plain": [
       "<Figure size 1000x600 with 1 Axes>"
      ]
     },
     "metadata": {},
     "output_type": "display_data"
    }
   ],
   "source": [
    "print(\"Analyse exploratoire...\")\n",
    "plt.figure(figsize=(10, 6))\n",
    "sns.histplot(data[\"SalePrice\"], kde=True, color=\"blue\", bins=30)\n",
    "plt.title(\"Distribution des prix (après transformation logarithmique)\")\n",
    "plt.xlabel(\"Log(SalePrice)\")\n",
    "plt.ylabel(\"Fréquence\")\n",
    "plt.show()"
   ]
  },
  {
   "cell_type": "markdown",
   "id": "13e61694-5488-4ac6-b79c-6e8066b474e6",
   "metadata": {},
   "source": [
    "### Modeles"
   ]
  },
  {
   "cell_type": "code",
   "execution_count": 128,
   "id": "61a4d72e-28f5-42c2-98ba-668b548f5465",
   "metadata": {},
   "outputs": [
    {
     "name": "stdout",
     "output_type": "stream",
     "text": [
      "Performance du modèle Random Forest : RMLSE = 0.1489\n"
     ]
    }
   ],
   "source": [
    "# Modèle Random Forest\n",
    "rf = RandomForestRegressor(n_estimators=300, random_state=42)\n",
    "rf.fit(X_train, y_train)\n",
    "y_pred_rf = np.expm1(rf.predict(X_val))\n",
    "rmlse_rf = rmlse(y_pred_rf, np.expm1(y_val))\n",
    "print(f\"Performance du modèle Random Forest : RMLSE = {rmlse_rf:.4f}\")"
   ]
  },
  {
   "cell_type": "code",
   "execution_count": 129,
   "id": "4e34a9f1-f58d-48e0-acbb-ef81b4a574b5",
   "metadata": {},
   "outputs": [
    {
     "name": "stdout",
     "output_type": "stream",
     "text": [
      "Performance du modèle XGBoost : RMLSE = 0.1380\n"
     ]
    }
   ],
   "source": [
    "# Modèle XGBoost\n",
    "xgb_model = xgb.XGBRegressor(n_estimators=340, max_depth=2, learning_rate=0.1, random_state=42)\n",
    "xgb_model.fit(X_train, y_train)\n",
    "y_pred_xgb = np.expm1(xgb_model.predict(X_val))\n",
    "rmlse_xgb = rmlse(y_pred_xgb, np.expm1(y_val))\n",
    "print(f\"Performance du modèle XGBoost : RMLSE = {rmlse_xgb:.4f}\")"
   ]
  },
  {
   "cell_type": "markdown",
   "id": "da0c05fd-6a8c-433d-a8c8-dd91b02dd130",
   "metadata": {},
   "source": [
    "### Conclusion"
   ]
  },
  {
   "cell_type": "raw",
   "id": "74fb7eb3-4673-4a82-814b-52b3013e0707",
   "metadata": {},
   "source": [
    "Ce projet a démontré comment structurer une tâche de machine learning, du prétraitement des données à l'entraînement et à l'évaluation des modèles. Les résultats obtenus offrent une base solide pour une application réelle ou pour une soumission à une compétition Kaggle"
   ]
  },
  {
   "cell_type": "code",
   "execution_count": null,
   "id": "7f66c5c0-c609-4dad-9c90-8c1af61ba5cc",
   "metadata": {},
   "outputs": [],
   "source": []
  }
 ],
 "metadata": {
  "kernelspec": {
   "display_name": "Python [conda env:base] *",
   "language": "python",
   "name": "conda-base-py"
  },
  "language_info": {
   "codemirror_mode": {
    "name": "ipython",
    "version": 3
   },
   "file_extension": ".py",
   "mimetype": "text/x-python",
   "name": "python",
   "nbconvert_exporter": "python",
   "pygments_lexer": "ipython3",
   "version": "3.12.7"
  }
 },
 "nbformat": 4,
 "nbformat_minor": 5
}
