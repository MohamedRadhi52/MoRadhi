{
 "cells": [
  {
   "cell_type": "markdown",
   "id": "cefe5892-54a0-4b8b-9926-7a2fe30aafc4",
   "metadata": {},
   "source": [
    "# Titanic"
   ]
  },
  {
   "cell_type": "raw",
   "id": "8997f816-be2a-4ece-a16c-6750e895a084",
   "metadata": {},
   "source": [
    "Ce projet a pour objectif de prédire la survie des passagers du Titanic en utilisant des techniques de machine learning basées sur les données disponibles. Le problème est traité comme un problème de classification binaire, où l'objectif est de prédire si un passager a survécu (Survived = 1) ou non (Survived = 0) en fonction des caractéristiques fournies dans le jeu de données"
   ]
  },
  {
   "cell_type": "markdown",
   "id": "98184ebe-3c1e-4fe9-b2b0-5577b9c351f5",
   "metadata": {},
   "source": [
    "### Importation les bibliothèques nécessaires"
   ]
  },
  {
   "cell_type": "code",
   "execution_count": 5,
   "id": "e252480a-b435-4808-9a5f-6fa9b4494943",
   "metadata": {},
   "outputs": [],
   "source": [
    "import numpy as np\n",
    "import pandas as pd\n",
    "import matplotlib.pyplot as plt\n",
    "import seaborn as sns\n",
    "from sklearn.model_selection import train_test_split\n",
    "from sklearn.ensemble import RandomForestClassifier\n",
    "from sklearn.metrics import accuracy_score, classification_report, confusion_matrix"
   ]
  },
  {
   "cell_type": "markdown",
   "id": "898f9e3b-e778-4ca2-8be3-a0c5e82d96a7",
   "metadata": {},
   "source": [
    "### Chargement des données:"
   ]
  },
  {
   "cell_type": "code",
   "execution_count": 8,
   "id": "a0f52aab-d4d9-49eb-a656-5972d69e286f",
   "metadata": {},
   "outputs": [
    {
     "name": "stdout",
     "output_type": "stream",
     "text": [
      "Chargement des données...\n",
      "Données d'entraînement :\n",
      "   PassengerId  Survived  Pclass  \\\n",
      "0            1         0       3   \n",
      "1            2         1       1   \n",
      "2            3         1       3   \n",
      "3            4         1       1   \n",
      "4            5         0       3   \n",
      "\n",
      "                                                Name     Sex   Age  SibSp  \\\n",
      "0                            Braund, Mr. Owen Harris    male  22.0      1   \n",
      "1  Cumings, Mrs. John Bradley (Florence Briggs Th...  female  38.0      1   \n",
      "2                             Heikkinen, Miss. Laina  female  26.0      0   \n",
      "3       Futrelle, Mrs. Jacques Heath (Lily May Peel)  female  35.0      1   \n",
      "4                           Allen, Mr. William Henry    male  35.0      0   \n",
      "\n",
      "   Parch            Ticket     Fare Cabin Embarked  \n",
      "0      0         A/5 21171   7.2500   NaN        S  \n",
      "1      0          PC 17599  71.2833   C85        C  \n",
      "2      0  STON/O2. 3101282   7.9250   NaN        S  \n",
      "3      0            113803  53.1000  C123        S  \n",
      "4      0            373450   8.0500   NaN        S  \n"
     ]
    }
   ],
   "source": [
    "print(\"Chargement des données...\")\n",
    "data = pd.read_csv(\"train.csv\")\n",
    "\n",
    "print(\"Données d'entraînement :\")\n",
    "print(data.head())"
   ]
  },
  {
   "cell_type": "markdown",
   "id": "9d023986-e73e-48c1-821e-8234bca8b16e",
   "metadata": {},
   "source": [
    "###  Nettoyage et Prétraitement des données"
   ]
  },
  {
   "cell_type": "code",
   "execution_count": 11,
   "id": "ee8f276b-5cde-47ee-ae5b-fda2bfdd98e6",
   "metadata": {},
   "outputs": [
    {
     "name": "stdout",
     "output_type": "stream",
     "text": [
      "Colonnes avec des valeurs manquantes :\n",
      "Cabin       687\n",
      "Age         177\n",
      "Embarked      2\n",
      "dtype: int64\n"
     ]
    }
   ],
   "source": [
    "# Identifier les colonnes avec des valeurs manquantes\n",
    "colonnes_manquantes = data.isnull().sum()\n",
    "colonnes_manquantes = colonnes_manquantes[colonnes_manquantes > 0].sort_values(ascending=False)\n",
    "print(\"Colonnes avec des valeurs manquantes :\")\n",
    "print(colonnes_manquantes)"
   ]
  },
  {
   "cell_type": "code",
   "execution_count": 13,
   "id": "549ea887-fa2c-4951-8ff6-71409d675802",
   "metadata": {},
   "outputs": [],
   "source": [
    "# Remplir les valeurs manquantes\n",
    "for colonne in colonnes_manquantes.index:\n",
    "    if data[colonne].dtype == \"object\":\n",
    "        data[colonne] = data[colonne].fillna(\"None\")\n",
    "    else:\n",
    "        data[colonne] = data[colonne].fillna(data[colonne].median())"
   ]
  },
  {
   "cell_type": "code",
   "execution_count": 15,
   "id": "e329a68d-2fd0-4e08-9c73-c1dd955876a9",
   "metadata": {},
   "outputs": [],
   "source": [
    "# Encoder les variables catégoriques\n",
    "data = pd.get_dummies(data, drop_first=True)"
   ]
  },
  {
   "cell_type": "code",
   "execution_count": 17,
   "id": "354abd33-445d-4129-b556-3f428c9de2d9",
   "metadata": {},
   "outputs": [],
   "source": [
    "# Séparer les variables indépendantes et la cible\n",
    "X = data.drop(\"Survived\", axis=1)\n",
    "y = data[\"Survived\"]"
   ]
  },
  {
   "cell_type": "code",
   "execution_count": 19,
   "id": "9a5c9fe8-4e44-42ee-879e-6a8dfdf7f3cf",
   "metadata": {},
   "outputs": [],
   "source": [
    "# Division en jeu d'entraînement et de validation\n",
    "X_train, X_val, y_train, y_val = train_test_split(X, y, test_size=0.2, random_state=42)"
   ]
  },
  {
   "cell_type": "markdown",
   "id": "445ee370-1e3f-4e0b-97ba-3c913f013777",
   "metadata": {},
   "source": [
    "###  Analyse exploratoire et Visualisation"
   ]
  },
  {
   "cell_type": "code",
   "execution_count": 22,
   "id": "41e69622-0647-4798-bfdf-73a8c6dd937e",
   "metadata": {},
   "outputs": [
    {
     "name": "stdout",
     "output_type": "stream",
     "text": [
      "Analyse exploratoire...\n"
     ]
    },
    {
     "data": {
      "image/png": "[encoded data removed]",
      "text/plain": [
       "<Figure size 1000x600 with 1 Axes>"
      ]
     },
     "metadata": {},
     "output_type": "display_data"
    }
   ],
   "source": [
    "print(\"Analyse exploratoire...\")\n",
    "plt.figure(figsize=(10, 6))\n",
    "sns.countplot(x=\"Survived\", data=data)\n",
    "plt.title(\"Répartition des survivants et non-survivants\")\n",
    "plt.xlabel(\"Survécu (0 = Non, 1 = Oui)\")\n",
    "plt.ylabel(\"Nombre\")\n",
    "plt.show()"
   ]
  },
  {
   "cell_type": "markdown",
   "id": "0fe1693c-9bad-486d-9022-062c8117fdcb",
   "metadata": {},
   "source": [
    "### Modèles"
   ]
  },
  {
   "cell_type": "code",
   "execution_count": 27,
   "id": "0b15b261-2f49-4555-97a0-fe43736db34f",
   "metadata": {},
   "outputs": [
    {
     "name": "stdout",
     "output_type": "stream",
     "text": [
      "Performance du modèle Random Forest : Accuracy = 0.8212\n"
     ]
    }
   ],
   "source": [
    "# Modèle Random Forest\n",
    "rf = RandomForestClassifier(n_estimators=300, random_state=42)\n",
    "rf.fit(X_train, y_train)\n",
    "y_pred_rf = rf.predict(X_val)\n",
    "accuracy_rf = accuracy_score(y_val, y_pred_rf)\n",
    "print(f\"Performance du modèle Random Forest : Accuracy = {accuracy_rf:.4f}\")\n"
   ]
  },
  {
   "cell_type": "code",
   "execution_count": 29,
   "id": "f93607be-b5a4-47b6-9ad2-fe2a14a12da7",
   "metadata": {},
   "outputs": [
    {
     "name": "stdout",
     "output_type": "stream",
     "text": [
      "Rapport de classification :\n",
      "              precision    recall  f1-score   support\n",
      "\n",
      "           0       0.81      0.90      0.86       105\n",
      "           1       0.84      0.70      0.76        74\n",
      "\n",
      "    accuracy                           0.82       179\n",
      "   macro avg       0.83      0.80      0.81       179\n",
      "weighted avg       0.82      0.82      0.82       179\n",
      "\n"
     ]
    },
    {
     "data": {
      "image/png": "[encoded data removed]",
      "text/plain": [
       "<Figure size 640x480 with 2 Axes>"
      ]
     },
     "metadata": {},
     "output_type": "display_data"
    }
   ],
   "source": [
    "# Rapport de classification\n",
    "print(\"Rapport de classification :\")\n",
    "print(classification_report(y_val, y_pred_rf))\n",
    "\n",
    "# Matrice de confusion\n",
    "conf_matrix = confusion_matrix(y_val, y_pred_rf)\n",
    "sns.heatmap(conf_matrix, annot=True, fmt=\"d\", cmap=\"Blues\")\n",
    "plt.title(\"Matrice de confusion\")\n",
    "plt.xlabel(\"Prédictions\")\n",
    "plt.ylabel(\"Valeurs réelles\")\n",
    "plt.show()\n"
   ]
  },
  {
   "cell_type": "markdown",
   "id": "804cc2a7-5d9a-4c54-b88c-3b724da6e97e",
   "metadata": {},
   "source": [
    "### conclusion"
   ]
  },
  {
   "cell_type": "raw",
   "id": "7857f766-0c60-43f3-ab69-a6320852c2c9",
   "metadata": {},
   "source": [
    "Ce projet consiste à prédire la survie des passagers du Titanic à l'aide de modèles de machine learning, en particulier un Random Forest Classifier. Les étapes principales incluent :\n",
    "\n",
    "1.Nettoyage et prétraitement des données :\n",
    "\n",
    "     -Gestion des valeurs manquantes en utilisant la médiane pour les variables numériques et \"None\" pour les       variables catégoriques.\n",
    "    - Encodage des variables catégoriques en variables numériques.\n",
    "\n",
    "\n",
    "2. Analyse exploratoire :\n",
    "\n",
    "Visualisation de la répartition des survivants et non-survivants pour mieux comprendre les données.\n",
    "\n",
    "\n",
    "3.Entraînement du modèle :\n",
    "\n",
    "Un modèle Random Forest a été entraîné et a obtenu une accuracy de {accuracy_rf:.4f} sur un jeu de validation.\n",
    "\n",
    "4.Évaluation des performances :\n",
    "\n",
    "Les performances ont été évaluées à l'aide d'une matrice de confusion et d'un rapport de classification.\n",
    "Le projet montre une application classique de classification binaire en utilisant des données réelles, avec un pipeline structuré et reproductible."
   ]
  }
 ],
 "metadata": {
  "kernelspec": {
   "display_name": "Python [conda env:base] *",
   "language": "python",
   "name": "conda-base-py"
  },
  "language_info": {
   "codemirror_mode": {
    "name": "ipython",
    "version": 3
   },
   "file_extension": ".py",
   "mimetype": "text/x-python",
   "name": "python",
   "nbconvert_exporter": "python",
   "pygments_lexer": "ipython3",
   "version": "3.12.7"
  }
 },
 "nbformat": 4,
 "nbformat_minor": 5
}
